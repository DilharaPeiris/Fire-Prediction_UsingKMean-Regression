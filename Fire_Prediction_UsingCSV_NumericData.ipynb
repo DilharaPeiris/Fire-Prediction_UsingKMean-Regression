{
  "nbformat": 4,
  "nbformat_minor": 2,
  "metadata": {
    "kernelspec": {
      "display_name": "Python 3",
      "language": "python",
      "name": "python3"
    },
    "language_info": {
      "codemirror_mode": {
        "name": "ipython",
        "version": 3
      },
      "file_extension": ".py",
      "mimetype": "text/x-python",
      "name": "python",
      "nbconvert_exporter": "python",
      "pygments_lexer": "ipython3",
      "version": "3.7.6"
    },
    "colab": {
      "name": "Fire_Prediction_UsingCSV_NumericData.ipynb",
      "provenance": [],
      "collapsed_sections": [
        "vGhw62kYtZGQ",
        "CZWlj-5EtZGR"
      ]
    }
  },
  "cells": [
    {
      "cell_type": "code",
      "execution_count": null,
      "source": [
        "import io \n",
        "import numpy as np\n",
        "import matplotlib.pyplot as plt\n",
        "import pandas as pd\n",
        "import os\n",
        "from google.colab import files\n",
        "uploaded=files.upload()\n",
        "#comment"
      ],
      "outputs": [
        {
          "output_type": "display_data",
          "data": {
            "text/html": [
              "\n",
              "     <input type=\"file\" id=\"files-36da2bba-5fe4-4e03-9313-87f982680747\" name=\"files[]\" multiple disabled\n",
              "        style=\"border:none\" />\n",
              "     <output id=\"result-36da2bba-5fe4-4e03-9313-87f982680747\">\n",
              "      Upload widget is only available when the cell has been executed in the\n",
              "      current browser session. Please rerun this cell to enable.\n",
              "      </output>\n",
              "      <script src=\"/nbextensions/google.colab/files.js\"></script> "
            ],
            "text/plain": [
              "<IPython.core.display.HTML object>"
            ]
          },
          "metadata": {
            "tags": []
          }
        },
        {
          "output_type": "stream",
          "name": "stdout",
          "text": [
            "Saving dataset.csv to dataset.csv\n"
          ]
        }
      ],
      "metadata": {
        "colab": {
          "resources": {
            "http://localhost:8080/nbextensions/google.colab/files.js": {
              "data": "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",
              "ok": true,
              "headers": [
                [
                  "content-type",
                  "application/javascript"
                ]
              ],
              "status": 200,
              "status_text": ""
            }
          },
          "base_uri": "https://localhost:8080/",
          "height": 70
        },
        "id": "zgHJvHkDus5b",
        "outputId": "df215af0-69d5-4084-e0d2-80d601526ad2"
      }
    },
    {
      "cell_type": "code",
      "execution_count": null,
      "source": [
        "\n",
        "#import numpy as np\n",
        "#import matplotlib.pyplot as plt\n",
        "#import pandas as pd\n",
        "#import os"
      ],
      "outputs": [],
      "metadata": {
        "id": "Iko0ivjitZF_"
      }
    },
    {
      "cell_type": "code",
      "execution_count": null,
      "source": [
        "BASE_PATH = 'D:/'"
      ],
      "outputs": [],
      "metadata": {
        "id": "2qQfuAystZGC"
      }
    },
    {
      "cell_type": "code",
      "execution_count": null,
      "source": [
        "#Read the csv file into a Pandas dataframe\n",
        "#datadf = pd.read_csv('D:/BK-Lap-Dilhara/dataset.csv',encoding = \"ISO-8859-1\")\n",
        "#datadf\n",
        "datadf = pd.read_csv(io.StringIO(uploaded['dataset.csv'].decode('ISO-8859-1')))\n",
        "datadf.head()"
      ],
      "outputs": [
        {
          "output_type": "execute_result",
          "data": {
            "text/html": [
              "<div>\n",
              "<style scoped>\n",
              "    .dataframe tbody tr th:only-of-type {\n",
              "        vertical-align: middle;\n",
              "    }\n",
              "\n",
              "    .dataframe tbody tr th {\n",
              "        vertical-align: top;\n",
              "    }\n",
              "\n",
              "    .dataframe thead th {\n",
              "        text-align: right;\n",
              "    }\n",
              "</style>\n",
              "<table border=\"1\" class=\"dataframe\">\n",
              "  <thead>\n",
              "    <tr style=\"text-align: right;\">\n",
              "      <th></th>\n",
              "      <th>Humidity</th>\n",
              "      <th>Temperature</th>\n",
              "      <th>Light Intensity Level</th>\n",
              "      <th>CO Level</th>\n",
              "    </tr>\n",
              "  </thead>\n",
              "  <tbody>\n",
              "    <tr>\n",
              "      <th>0</th>\n",
              "      <td>95.6</td>\n",
              "      <td>31.1</td>\n",
              "      <td>236.0</td>\n",
              "      <td>1.63</td>\n",
              "    </tr>\n",
              "    <tr>\n",
              "      <th>1</th>\n",
              "      <td>95.6</td>\n",
              "      <td>31.1</td>\n",
              "      <td>236.0</td>\n",
              "      <td>1.67</td>\n",
              "    </tr>\n",
              "    <tr>\n",
              "      <th>2</th>\n",
              "      <td>95.6</td>\n",
              "      <td>31.0</td>\n",
              "      <td>237.0</td>\n",
              "      <td>1.67</td>\n",
              "    </tr>\n",
              "    <tr>\n",
              "      <th>3</th>\n",
              "      <td>95.7</td>\n",
              "      <td>31.0</td>\n",
              "      <td>237.0</td>\n",
              "      <td>1.70</td>\n",
              "    </tr>\n",
              "    <tr>\n",
              "      <th>4</th>\n",
              "      <td>95.8</td>\n",
              "      <td>31.0</td>\n",
              "      <td>236.0</td>\n",
              "      <td>1.69</td>\n",
              "    </tr>\n",
              "  </tbody>\n",
              "</table>\n",
              "</div>"
            ],
            "text/plain": [
              "   Humidity  Temperature  Light Intensity Level  CO Level\n",
              "0      95.6         31.1                  236.0      1.63\n",
              "1      95.6         31.1                  236.0      1.67\n",
              "2      95.6         31.0                  237.0      1.67\n",
              "3      95.7         31.0                  237.0      1.70\n",
              "4      95.8         31.0                  236.0      1.69"
            ]
          },
          "metadata": {
            "tags": []
          },
          "execution_count": 5
        }
      ],
      "metadata": {
        "colab": {
          "base_uri": "https://localhost:8080/",
          "height": 191
        },
        "id": "KnGxBpLbtZGC",
        "outputId": "3b6327be-d6d3-469c-cf25-c77e5e1c66c9"
      }
    },
    {
      "cell_type": "code",
      "execution_count": null,
      "source": [
        "#remove rows with Null/NaN values\n",
        "print(\"Before removing null rows: \", len(datadf))\n",
        "data_df = datadf.dropna() \n",
        "print(\"After removing null rows: \", len(data_df))"
      ],
      "outputs": [
        {
          "output_type": "stream",
          "name": "stdout",
          "text": [
            "Before removing null rows:  1404\n",
            "After removing null rows:  1403\n"
          ]
        }
      ],
      "metadata": {
        "colab": {
          "base_uri": "https://localhost:8080/"
        },
        "id": "3J2ruQ34tZGK",
        "outputId": "f0f4b535-7d5f-4303-a9ff-153214c020e2"
      }
    },
    {
      "cell_type": "code",
      "execution_count": null,
      "source": [
        "Time = []\n",
        "Humidity = []\n",
        "LightIntensityLevel = []\n",
        "COLevel = []\n",
        "Temperature = []\n",
        "\n",
        "for i in range(len(data_df)):\n",
        "    Time.append(data_df.index.values[i]) \n",
        "    Humidity.append(data_df['Humidity'].values[i]) \n",
        "    LightIntensityLevel.append(data_df['Light Intensity Level'].values[i]) \n",
        "    Temperature.append(data_df['Temperature'].values[i])\n",
        "    COLevel.append(data_df['CO Level'].values[i])     "
      ],
      "outputs": [],
      "metadata": {
        "id": "wlayrq8dtZGL"
      }
    },
    {
      "cell_type": "code",
      "execution_count": null,
      "source": [
        "import matplotlib.pyplot as plt\n",
        "# line 1 points\n",
        "\n",
        "# plotting the line 1 points \n",
        "plt.plot(Time, Humidity, label = \"Humidity\")\n",
        "# line 2 points\n",
        "\n",
        "# plotting the line 2 points \n",
        "plt.plot(Time, LightIntensityLevel, label = \"Light Intensity Level\")\n",
        "# line 3 points\n",
        "\n",
        "# plotting the line 2 points \n",
        "plt.plot(Time, COLevel, label = \"COLevel\")\n",
        "\n",
        "# plotting the line 2 points \n",
        "plt.plot(Time, Temperature, label = \"Temperature\")\n",
        "\n",
        "plt.xlabel('Time')\n",
        "# Set the y axis label of the current axis.\n",
        "#plt.ylabel('y - axis')\n",
        "# Set a title of the current axes.\n",
        "plt.title('Humidity - Light Intensity Level - COLevel -Temperature / Time ')\n",
        "# show a legend on the plot\n",
        "plt.legend()\n",
        "# Display a figure.\n",
        "plt.show()"
      ],
      "outputs": [
        {
          "output_type": "display_data",
          "data": {
            "image/png": "[encoded data removed]",
            "text/plain": [
              "<Figure size 432x288 with 1 Axes>"
            ]
          },
          "metadata": {
            "tags": [],
            "needs_background": "light"
          }
        }
      ],
      "metadata": {
        "colab": {
          "base_uri": "https://localhost:8080/",
          "height": 295
        },
        "id": "bZ-dIpXKtZGL",
        "outputId": "52b9367e-dab4-4600-b989-8128ddb3d38b"
      }
    },
    {
      "cell_type": "markdown",
      "source": [
        "# Finding the correlation"
      ],
      "metadata": {
        "id": "e6xX2KO4tZGM"
      }
    },
    {
      "cell_type": "code",
      "execution_count": null,
      "source": [
        "#find the correlation among the columns in the dataframe\n",
        "data_df.corr(method ='kendall') "
      ],
      "outputs": [
        {
          "output_type": "execute_result",
          "data": {
            "text/html": [
              "<div>\n",
              "<style scoped>\n",
              "    .dataframe tbody tr th:only-of-type {\n",
              "        vertical-align: middle;\n",
              "    }\n",
              "\n",
              "    .dataframe tbody tr th {\n",
              "        vertical-align: top;\n",
              "    }\n",
              "\n",
              "    .dataframe thead th {\n",
              "        text-align: right;\n",
              "    }\n",
              "</style>\n",
              "<table border=\"1\" class=\"dataframe\">\n",
              "  <thead>\n",
              "    <tr style=\"text-align: right;\">\n",
              "      <th></th>\n",
              "      <th>Humidity</th>\n",
              "      <th>Temperature</th>\n",
              "      <th>Light Intensity Level</th>\n",
              "      <th>CO Level</th>\n",
              "    </tr>\n",
              "  </thead>\n",
              "  <tbody>\n",
              "    <tr>\n",
              "      <th>Humidity</th>\n",
              "      <td>1.000000</td>\n",
              "      <td>-0.881927</td>\n",
              "      <td>-0.138571</td>\n",
              "      <td>0.503297</td>\n",
              "    </tr>\n",
              "    <tr>\n",
              "      <th>Temperature</th>\n",
              "      <td>-0.881927</td>\n",
              "      <td>1.000000</td>\n",
              "      <td>0.142693</td>\n",
              "      <td>-0.525207</td>\n",
              "    </tr>\n",
              "    <tr>\n",
              "      <th>Light Intensity Level</th>\n",
              "      <td>-0.138571</td>\n",
              "      <td>0.142693</td>\n",
              "      <td>1.000000</td>\n",
              "      <td>-0.112829</td>\n",
              "    </tr>\n",
              "    <tr>\n",
              "      <th>CO Level</th>\n",
              "      <td>0.503297</td>\n",
              "      <td>-0.525207</td>\n",
              "      <td>-0.112829</td>\n",
              "      <td>1.000000</td>\n",
              "    </tr>\n",
              "  </tbody>\n",
              "</table>\n",
              "</div>"
            ],
            "text/plain": [
              "                       Humidity  Temperature  Light Intensity Level  CO Level\n",
              "Humidity               1.000000    -0.881927              -0.138571  0.503297\n",
              "Temperature           -0.881927     1.000000               0.142693 -0.525207\n",
              "Light Intensity Level -0.138571     0.142693               1.000000 -0.112829\n",
              "CO Level               0.503297    -0.525207              -0.112829  1.000000"
            ]
          },
          "metadata": {
            "tags": []
          },
          "execution_count": 9
        }
      ],
      "metadata": {
        "colab": {
          "base_uri": "https://localhost:8080/",
          "height": 162
        },
        "id": "TwlJi6O1tZGN",
        "outputId": "4028b6f8-2ef3-4ac5-c7a2-182cf8a49ee6"
      }
    },
    {
      "cell_type": "code",
      "execution_count": null,
      "source": [
        "data_df.describe()"
      ],
      "outputs": [
        {
          "output_type": "execute_result",
          "data": {
            "text/html": [
              "<div>\n",
              "<style scoped>\n",
              "    .dataframe tbody tr th:only-of-type {\n",
              "        vertical-align: middle;\n",
              "    }\n",
              "\n",
              "    .dataframe tbody tr th {\n",
              "        vertical-align: top;\n",
              "    }\n",
              "\n",
              "    .dataframe thead th {\n",
              "        text-align: right;\n",
              "    }\n",
              "</style>\n",
              "<table border=\"1\" class=\"dataframe\">\n",
              "  <thead>\n",
              "    <tr style=\"text-align: right;\">\n",
              "      <th></th>\n",
              "      <th>Humidity</th>\n",
              "      <th>Temperature</th>\n",
              "      <th>Light Intensity Level</th>\n",
              "      <th>CO Level</th>\n",
              "    </tr>\n",
              "  </thead>\n",
              "  <tbody>\n",
              "    <tr>\n",
              "      <th>count</th>\n",
              "      <td>1403.000000</td>\n",
              "      <td>1403.000000</td>\n",
              "      <td>1403.000000</td>\n",
              "      <td>1403.000000</td>\n",
              "    </tr>\n",
              "    <tr>\n",
              "      <th>mean</th>\n",
              "      <td>64.311547</td>\n",
              "      <td>45.066714</td>\n",
              "      <td>222.985745</td>\n",
              "      <td>1.775075</td>\n",
              "    </tr>\n",
              "    <tr>\n",
              "      <th>std</th>\n",
              "      <td>26.001416</td>\n",
              "      <td>15.094236</td>\n",
              "      <td>70.253331</td>\n",
              "      <td>0.707571</td>\n",
              "    </tr>\n",
              "    <tr>\n",
              "      <th>min</th>\n",
              "      <td>23.800000</td>\n",
              "      <td>24.300000</td>\n",
              "      <td>21.000000</td>\n",
              "      <td>0.530000</td>\n",
              "    </tr>\n",
              "    <tr>\n",
              "      <th>25%</th>\n",
              "      <td>37.300000</td>\n",
              "      <td>32.500000</td>\n",
              "      <td>194.500000</td>\n",
              "      <td>1.250000</td>\n",
              "    </tr>\n",
              "    <tr>\n",
              "      <th>50%</th>\n",
              "      <td>62.100000</td>\n",
              "      <td>41.900000</td>\n",
              "      <td>234.000000</td>\n",
              "      <td>1.630000</td>\n",
              "    </tr>\n",
              "    <tr>\n",
              "      <th>75%</th>\n",
              "      <td>92.000000</td>\n",
              "      <td>56.200000</td>\n",
              "      <td>268.000000</td>\n",
              "      <td>2.090000</td>\n",
              "    </tr>\n",
              "    <tr>\n",
              "      <th>max</th>\n",
              "      <td>99.900000</td>\n",
              "      <td>93.400000</td>\n",
              "      <td>385.000000</td>\n",
              "      <td>3.590000</td>\n",
              "    </tr>\n",
              "  </tbody>\n",
              "</table>\n",
              "</div>"
            ],
            "text/plain": [
              "          Humidity  Temperature  Light Intensity Level     CO Level\n",
              "count  1403.000000  1403.000000            1403.000000  1403.000000\n",
              "mean     64.311547    45.066714             222.985745     1.775075\n",
              "std      26.001416    15.094236              70.253331     0.707571\n",
              "min      23.800000    24.300000              21.000000     0.530000\n",
              "25%      37.300000    32.500000             194.500000     1.250000\n",
              "50%      62.100000    41.900000             234.000000     1.630000\n",
              "75%      92.000000    56.200000             268.000000     2.090000\n",
              "max      99.900000    93.400000             385.000000     3.590000"
            ]
          },
          "metadata": {
            "tags": []
          },
          "execution_count": 10
        }
      ],
      "metadata": {
        "colab": {
          "base_uri": "https://localhost:8080/",
          "height": 277
        },
        "id": "AzRf_RMqtZGN",
        "outputId": "a8dbfb4a-d7e4-4b34-dd7c-f6b6cc140097"
      }
    },
    {
      "cell_type": "markdown",
      "source": [
        "# Temperature / Time"
      ],
      "metadata": {
        "id": "7385MTlvtZGO"
      }
    },
    {
      "cell_type": "code",
      "execution_count": null,
      "source": [
        "# plotting the line 2 points \n",
        "def drawPlot(variable, variableName,threshold):\n",
        "    plt.plot(Time, variable, label = variableName)\n",
        "    plt.xlabel('Time')\n",
        "    plt.ylabel(variableName)\n",
        "    title = variableName +' / Time '\n",
        "    plt.title(title)\n",
        "    plt.axhline(y=threshold,color='r')\n",
        "    plt.legend()\n",
        "    plt.show()\n"
      ],
      "outputs": [],
      "metadata": {
        "id": "iQ4aCWr7tZGO"
      }
    },
    {
      "cell_type": "code",
      "execution_count": null,
      "source": [
        "drawPlot(Temperature,'Temperature',40)"
      ],
      "outputs": [
        {
          "output_type": "display_data",
          "data": {
            "image/png": "[encoded data removed]",
            "text/plain": [
              "<Figure size 432x288 with 1 Axes>"
            ]
          },
          "metadata": {
            "tags": [],
            "needs_background": "light"
          }
        }
      ],
      "metadata": {
        "colab": {
          "base_uri": "https://localhost:8080/",
          "height": 295
        },
        "id": "IZPEWWx9tZGO",
        "outputId": "9b54b896-3a32-4257-a4ce-705334fa4569"
      }
    },
    {
      "cell_type": "markdown",
      "source": [
        "# Light Intensity Level / Time\n"
      ],
      "metadata": {
        "id": "5eselAz9tZGP"
      }
    },
    {
      "cell_type": "code",
      "execution_count": null,
      "source": [
        "drawPlot(LightIntensityLevel,'Light Intensity Level',250)"
      ],
      "outputs": [
        {
          "output_type": "display_data",
          "data": {
            "image/png": "[encoded data removed]",
            "text/plain": [
              "<Figure size 432x288 with 1 Axes>"
            ]
          },
          "metadata": {
            "tags": [],
            "needs_background": "light"
          }
        }
      ],
      "metadata": {
        "colab": {
          "base_uri": "https://localhost:8080/",
          "height": 295
        },
        "id": "EGLMwrpWtZGP",
        "outputId": "fcbf3239-770b-4793-f322-7d1cb0cd7031"
      }
    },
    {
      "cell_type": "markdown",
      "source": [
        "# CO Level / Time\n",
        "The resistance of sensor at current CO concentration and the resistance of sensor at 1000ppm LPG in clean air"
      ],
      "metadata": {
        "id": "-Dji7Xx-tZGQ"
      }
    },
    {
      "cell_type": "code",
      "execution_count": null,
      "source": [
        "drawPlot(COLevel,'CO Level',1.5)"
      ],
      "outputs": [
        {
          "output_type": "display_data",
          "data": {
            "image/png": "[encoded data removed]",
            "text/plain": [
              "<Figure size 432x288 with 1 Axes>"
            ]
          },
          "metadata": {
            "tags": [],
            "needs_background": "light"
          }
        }
      ],
      "metadata": {
        "colab": {
          "base_uri": "https://localhost:8080/",
          "height": 295
        },
        "id": "Dhh6SeB5tZGQ",
        "outputId": "189951c2-2373-4e81-ff58-c0646a344d88"
      }
    },
    {
      "cell_type": "markdown",
      "source": [
        "# Humidity/ Time"
      ],
      "metadata": {
        "id": "vGhw62kYtZGQ"
      }
    },
    {
      "cell_type": "code",
      "execution_count": null,
      "source": [
        "drawPlot(Humidity,'Humidity',60)"
      ],
      "outputs": [
        {
          "output_type": "display_data",
          "data": {
            "image/png": "[encoded data removed]",
            "text/plain": [
              "<Figure size 432x288 with 1 Axes>"
            ]
          },
          "metadata": {
            "tags": [],
            "needs_background": "light"
          }
        }
      ],
      "metadata": {
        "colab": {
          "base_uri": "https://localhost:8080/"
        },
        "id": "Jadlq8TStZGQ",
        "outputId": "a64f74d2-b48a-456a-9d7e-58575bec88bb"
      }
    },
    {
      "cell_type": "markdown",
      "source": [
        "# KMeans"
      ],
      "metadata": {
        "id": "CZWlj-5EtZGR"
      }
    },
    {
      "cell_type": "code",
      "execution_count": null,
      "source": [
        "from sklearn.cluster import KMeans"
      ],
      "outputs": [],
      "metadata": {
        "id": "dR65bcT6tZGR"
      }
    },
    {
      "cell_type": "code",
      "execution_count": null,
      "source": [
        "kmeans = KMeans(n_clusters=2, init='k-means++')"
      ],
      "outputs": [],
      "metadata": {
        "id": "cFpO7vBYtZGR"
      }
    },
    {
      "cell_type": "code",
      "execution_count": null,
      "source": [
        "data_df.head()"
      ],
      "outputs": [
        {
          "output_type": "execute_result",
          "data": {
            "text/html": [
              "<div>\n",
              "<style scoped>\n",
              "    .dataframe tbody tr th:only-of-type {\n",
              "        vertical-align: middle;\n",
              "    }\n",
              "\n",
              "    .dataframe tbody tr th {\n",
              "        vertical-align: top;\n",
              "    }\n",
              "\n",
              "    .dataframe thead th {\n",
              "        text-align: right;\n",
              "    }\n",
              "</style>\n",
              "<table border=\"1\" class=\"dataframe\">\n",
              "  <thead>\n",
              "    <tr style=\"text-align: right;\">\n",
              "      <th></th>\n",
              "      <th>Humidity</th>\n",
              "      <th>Temperature</th>\n",
              "      <th>Light Intensity Level</th>\n",
              "      <th>CO Level</th>\n",
              "    </tr>\n",
              "  </thead>\n",
              "  <tbody>\n",
              "    <tr>\n",
              "      <th>0</th>\n",
              "      <td>95.6</td>\n",
              "      <td>31.1</td>\n",
              "      <td>236.0</td>\n",
              "      <td>1.63</td>\n",
              "    </tr>\n",
              "    <tr>\n",
              "      <th>1</th>\n",
              "      <td>95.6</td>\n",
              "      <td>31.1</td>\n",
              "      <td>236.0</td>\n",
              "      <td>1.67</td>\n",
              "    </tr>\n",
              "    <tr>\n",
              "      <th>2</th>\n",
              "      <td>95.6</td>\n",
              "      <td>31.0</td>\n",
              "      <td>237.0</td>\n",
              "      <td>1.67</td>\n",
              "    </tr>\n",
              "    <tr>\n",
              "      <th>3</th>\n",
              "      <td>95.7</td>\n",
              "      <td>31.0</td>\n",
              "      <td>237.0</td>\n",
              "      <td>1.70</td>\n",
              "    </tr>\n",
              "    <tr>\n",
              "      <th>4</th>\n",
              "      <td>95.8</td>\n",
              "      <td>31.0</td>\n",
              "      <td>236.0</td>\n",
              "      <td>1.69</td>\n",
              "    </tr>\n",
              "  </tbody>\n",
              "</table>\n",
              "</div>"
            ],
            "text/plain": [
              "   Humidity  Temperature  Light Intensity Level  CO Level\n",
              "0      95.6         31.1                  236.0      1.63\n",
              "1      95.6         31.1                  236.0      1.67\n",
              "2      95.6         31.0                  237.0      1.67\n",
              "3      95.7         31.0                  237.0      1.70\n",
              "4      95.8         31.0                  236.0      1.69"
            ]
          },
          "metadata": {
            "tags": []
          },
          "execution_count": 18
        }
      ],
      "metadata": {
        "colab": {
          "base_uri": "https://localhost:8080/"
        },
        "id": "atRwitSetZGR",
        "outputId": "c2bc849e-0e0a-48d7-883c-afa215c64d0b"
      }
    },
    {
      "cell_type": "code",
      "execution_count": null,
      "source": [
        "#cols = list(data_df.columns)\n",
        "#cols.remove('Time')\n",
        "#input_df = data_df[cols]\n",
        "input_df = data_df"
      ],
      "outputs": [],
      "metadata": {
        "id": "_tQe60PXtZGR"
      }
    },
    {
      "cell_type": "code",
      "execution_count": null,
      "source": [
        "input_df.head()"
      ],
      "outputs": [
        {
          "output_type": "execute_result",
          "data": {
            "text/html": [
              "<div>\n",
              "<style scoped>\n",
              "    .dataframe tbody tr th:only-of-type {\n",
              "        vertical-align: middle;\n",
              "    }\n",
              "\n",
              "    .dataframe tbody tr th {\n",
              "        vertical-align: top;\n",
              "    }\n",
              "\n",
              "    .dataframe thead th {\n",
              "        text-align: right;\n",
              "    }\n",
              "</style>\n",
              "<table border=\"1\" class=\"dataframe\">\n",
              "  <thead>\n",
              "    <tr style=\"text-align: right;\">\n",
              "      <th></th>\n",
              "      <th>Humidity</th>\n",
              "      <th>Temperature</th>\n",
              "      <th>Light Intensity Level</th>\n",
              "      <th>CO Level</th>\n",
              "    </tr>\n",
              "  </thead>\n",
              "  <tbody>\n",
              "    <tr>\n",
              "      <th>0</th>\n",
              "      <td>95.6</td>\n",
              "      <td>31.1</td>\n",
              "      <td>236.0</td>\n",
              "      <td>1.63</td>\n",
              "    </tr>\n",
              "    <tr>\n",
              "      <th>1</th>\n",
              "      <td>95.6</td>\n",
              "      <td>31.1</td>\n",
              "      <td>236.0</td>\n",
              "      <td>1.67</td>\n",
              "    </tr>\n",
              "    <tr>\n",
              "      <th>2</th>\n",
              "      <td>95.6</td>\n",
              "      <td>31.0</td>\n",
              "      <td>237.0</td>\n",
              "      <td>1.67</td>\n",
              "    </tr>\n",
              "    <tr>\n",
              "      <th>3</th>\n",
              "      <td>95.7</td>\n",
              "      <td>31.0</td>\n",
              "      <td>237.0</td>\n",
              "      <td>1.70</td>\n",
              "    </tr>\n",
              "    <tr>\n",
              "      <th>4</th>\n",
              "      <td>95.8</td>\n",
              "      <td>31.0</td>\n",
              "      <td>236.0</td>\n",
              "      <td>1.69</td>\n",
              "    </tr>\n",
              "  </tbody>\n",
              "</table>\n",
              "</div>"
            ],
            "text/plain": [
              "   Humidity  Temperature  Light Intensity Level  CO Level\n",
              "0      95.6         31.1                  236.0      1.63\n",
              "1      95.6         31.1                  236.0      1.67\n",
              "2      95.6         31.0                  237.0      1.67\n",
              "3      95.7         31.0                  237.0      1.70\n",
              "4      95.8         31.0                  236.0      1.69"
            ]
          },
          "metadata": {
            "tags": []
          },
          "execution_count": 20
        }
      ],
      "metadata": {
        "colab": {
          "base_uri": "https://localhost:8080/"
        },
        "id": "_yOW0B1RtZGS",
        "outputId": "01d13c5d-9114-4087-e9c7-d69d12005602"
      }
    },
    {
      "cell_type": "code",
      "execution_count": null,
      "source": [
        "kmeans.fit(input_df)"
      ],
      "outputs": [
        {
          "output_type": "execute_result",
          "data": {
            "text/plain": [
              "KMeans(algorithm='auto', copy_x=True, init='k-means++', max_iter=300,\n",
              "       n_clusters=2, n_init=10, n_jobs=None, precompute_distances='auto',\n",
              "       random_state=None, tol=0.0001, verbose=0)"
            ]
          },
          "metadata": {
            "tags": []
          },
          "execution_count": 21
        }
      ],
      "metadata": {
        "colab": {
          "base_uri": "https://localhost:8080/"
        },
        "id": "fMzPm0LJtZGS",
        "outputId": "1aa5d7f0-6437-455e-f46d-0e236651cbdb"
      }
    },
    {
      "cell_type": "code",
      "execution_count": null,
      "source": [
        "# inertia on the fitted data -- evaluate how well the formed clusters are\n",
        "kmeans.inertia_"
      ],
      "outputs": [
        {
          "output_type": "execute_result",
          "data": {
            "text/plain": [
              "3675661.759603824"
            ]
          },
          "metadata": {
            "tags": []
          },
          "execution_count": 22
        }
      ],
      "metadata": {
        "colab": {
          "base_uri": "https://localhost:8080/"
        },
        "id": "J0gtjfp2tZGT",
        "outputId": "1dcc2c7e-b09a-4ba8-c680-a6e2d0926636"
      }
    },
    {
      "cell_type": "code",
      "execution_count": null,
      "source": [
        "pred = kmeans.predict(input_df)\n",
        "pred"
      ],
      "outputs": [
        {
          "output_type": "execute_result",
          "data": {
            "text/plain": [
              "array([0, 0, 0, ..., 0, 0, 0], dtype=int32)"
            ]
          },
          "metadata": {
            "tags": []
          },
          "execution_count": 23
        }
      ],
      "metadata": {
        "colab": {
          "base_uri": "https://localhost:8080/"
        },
        "id": "TreCHbnwtZGU",
        "outputId": "63c20fbf-cdbe-4faf-9990-9addae3c0f4d"
      }
    },
    {
      "cell_type": "code",
      "execution_count": null,
      "source": [
        "output_df = pd.DataFrame(input_df)\n",
        "output_df.head()"
      ],
      "outputs": [
        {
          "output_type": "execute_result",
          "data": {
            "text/html": [
              "<div>\n",
              "<style scoped>\n",
              "    .dataframe tbody tr th:only-of-type {\n",
              "        vertical-align: middle;\n",
              "    }\n",
              "\n",
              "    .dataframe tbody tr th {\n",
              "        vertical-align: top;\n",
              "    }\n",
              "\n",
              "    .dataframe thead th {\n",
              "        text-align: right;\n",
              "    }\n",
              "</style>\n",
              "<table border=\"1\" class=\"dataframe\">\n",
              "  <thead>\n",
              "    <tr style=\"text-align: right;\">\n",
              "      <th></th>\n",
              "      <th>Humidity</th>\n",
              "      <th>Temperature</th>\n",
              "      <th>Light Intensity Level</th>\n",
              "      <th>CO Level</th>\n",
              "    </tr>\n",
              "  </thead>\n",
              "  <tbody>\n",
              "    <tr>\n",
              "      <th>0</th>\n",
              "      <td>95.6</td>\n",
              "      <td>31.1</td>\n",
              "      <td>236.0</td>\n",
              "      <td>1.63</td>\n",
              "    </tr>\n",
              "    <tr>\n",
              "      <th>1</th>\n",
              "      <td>95.6</td>\n",
              "      <td>31.1</td>\n",
              "      <td>236.0</td>\n",
              "      <td>1.67</td>\n",
              "    </tr>\n",
              "    <tr>\n",
              "      <th>2</th>\n",
              "      <td>95.6</td>\n",
              "      <td>31.0</td>\n",
              "      <td>237.0</td>\n",
              "      <td>1.67</td>\n",
              "    </tr>\n",
              "    <tr>\n",
              "      <th>3</th>\n",
              "      <td>95.7</td>\n",
              "      <td>31.0</td>\n",
              "      <td>237.0</td>\n",
              "      <td>1.70</td>\n",
              "    </tr>\n",
              "    <tr>\n",
              "      <th>4</th>\n",
              "      <td>95.8</td>\n",
              "      <td>31.0</td>\n",
              "      <td>236.0</td>\n",
              "      <td>1.69</td>\n",
              "    </tr>\n",
              "  </tbody>\n",
              "</table>\n",
              "</div>"
            ],
            "text/plain": [
              "   Humidity  Temperature  Light Intensity Level  CO Level\n",
              "0      95.6         31.1                  236.0      1.63\n",
              "1      95.6         31.1                  236.0      1.67\n",
              "2      95.6         31.0                  237.0      1.67\n",
              "3      95.7         31.0                  237.0      1.70\n",
              "4      95.8         31.0                  236.0      1.69"
            ]
          },
          "metadata": {
            "tags": []
          },
          "execution_count": 24
        }
      ],
      "metadata": {
        "colab": {
          "base_uri": "https://localhost:8080/"
        },
        "id": "ElyoOyh4tZGU",
        "outputId": "3b7501ad-5698-4a73-f895-5b2c0cd28a7d"
      }
    },
    {
      "cell_type": "markdown",
      "source": [
        "def assignClusterLable(pred_array):\n",
        "    #labeled_df = pd.DataFrame(output_df)\n",
        "    for i in range(len(pred)):\n",
        "        if((pred_array[i]==0) & (float(pred_array[i]) > 40.0)):\n",
        "            pred_array[i] = 1  \n",
        "        if((pred_array[i]==1) & (float(pred_array[i]) <= 40.0)):\n",
        "            pred_array[i] = 0\n",
        "    labeled_df['cluster'] = pred_array\n",
        "    return labeled_df\n",
        "    "
      ],
      "metadata": {
        "id": "EmyBInp_tZGV"
      }
    },
    {
      "cell_type": "markdown",
      "source": [
        "labeled_df = checkTempnew(pred)\n",
        "labeled_df.head()"
      ],
      "metadata": {
        "id": "vfcS0kwUtZGV"
      }
    },
    {
      "cell_type": "markdown",
      "source": [
        "#the value count of points in each of the above-formed clusters\n",
        "output_df = pd.DataFrame(input_df)\n",
        "output_df['cluster'] = pred\n",
        "output_df['cluster'].value_counts()\n",
        "output_df.head()"
      ],
      "metadata": {
        "id": "L6PSE1rztZGV"
      }
    },
    {
      "cell_type": "markdown",
      "source": [
        "def checkTemp(data_frame):\n",
        "    for i in range(len(data_frame)):\n",
        "        x = output_df['cluster'][i]\n",
        "        if((output_df['cluster'][i]==0) & (float(output_df['Temperature'][i]) > 40.0)):\n",
        "            x = 1  \n",
        "        if((output_df['cluster'][i]==1) & (float(output_df['Temperature'][i]) <= 40.0)):\n",
        "            x = 0\n",
        "        data_frame['cluster_label'][i] = x"
      ],
      "metadata": {
        "id": "Wf3T9AeFtZGV"
      }
    },
    {
      "cell_type": "code",
      "execution_count": null,
      "source": [
        "pred[1200]"
      ],
      "outputs": [
        {
          "output_type": "execute_result",
          "data": {
            "text/plain": [
              "1"
            ]
          },
          "metadata": {
            "tags": []
          },
          "execution_count": 25
        }
      ],
      "metadata": {
        "colab": {
          "base_uri": "https://localhost:8080/"
        },
        "id": "MfgzIKRZtZGW",
        "outputId": "45de44f3-ed63-4a9d-d24c-752d5eabb342"
      }
    },
    {
      "cell_type": "code",
      "execution_count": null,
      "source": [
        "def assignClusterLable(k_pred,data_frame):\n",
        "    data_frame['cluster_ID'] = k_pred\n",
        "    pred_array = []\n",
        "    for i in range(len(data_frame)):\n",
        "        if (data_frame['cluster_ID'][i] == 0) & (float(data_frame['Temperature'][i]) > 40.0):\n",
        "            pred_array.append(1)\n",
        "        elif (data_frame['cluster_ID'][i] == 1) & (float(data_frame['Temperature'][i]) <= 40.0):\n",
        "            pred_array.append(0) \n",
        "        else:\n",
        "            pred_array.append(data_frame['cluster_ID'][i])\n",
        "    data_frame['cluster_label'] = pred_array"
      ],
      "outputs": [],
      "metadata": {
        "id": "UoozjAYatZGW"
      }
    },
    {
      "cell_type": "code",
      "execution_count": null,
      "source": [
        "proccessedOutput_df = output_df"
      ],
      "outputs": [],
      "metadata": {
        "id": "3pZrlC8BtZGW"
      }
    },
    {
      "cell_type": "code",
      "execution_count": null,
      "source": [
        "assignClusterLable(pred,proccessedOutput_df)"
      ],
      "outputs": [],
      "metadata": {
        "id": "WiiRnHVitZGW"
      }
    },
    {
      "cell_type": "code",
      "execution_count": null,
      "source": [
        "proccessedOutput_df.head()"
      ],
      "outputs": [
        {
          "output_type": "execute_result",
          "data": {
            "text/html": [
              "<div>\n",
              "<style scoped>\n",
              "    .dataframe tbody tr th:only-of-type {\n",
              "        vertical-align: middle;\n",
              "    }\n",
              "\n",
              "    .dataframe tbody tr th {\n",
              "        vertical-align: top;\n",
              "    }\n",
              "\n",
              "    .dataframe thead th {\n",
              "        text-align: right;\n",
              "    }\n",
              "</style>\n",
              "<table border=\"1\" class=\"dataframe\">\n",
              "  <thead>\n",
              "    <tr style=\"text-align: right;\">\n",
              "      <th></th>\n",
              "      <th>Humidity</th>\n",
              "      <th>Temperature</th>\n",
              "      <th>Light Intensity Level</th>\n",
              "      <th>CO Level</th>\n",
              "      <th>cluster_ID</th>\n",
              "      <th>cluster_label</th>\n",
              "    </tr>\n",
              "  </thead>\n",
              "  <tbody>\n",
              "    <tr>\n",
              "      <th>0</th>\n",
              "      <td>95.6</td>\n",
              "      <td>31.1</td>\n",
              "      <td>236.0</td>\n",
              "      <td>1.63</td>\n",
              "      <td>0</td>\n",
              "      <td>0</td>\n",
              "    </tr>\n",
              "    <tr>\n",
              "      <th>1</th>\n",
              "      <td>95.6</td>\n",
              "      <td>31.1</td>\n",
              "      <td>236.0</td>\n",
              "      <td>1.67</td>\n",
              "      <td>0</td>\n",
              "      <td>0</td>\n",
              "    </tr>\n",
              "    <tr>\n",
              "      <th>2</th>\n",
              "      <td>95.6</td>\n",
              "      <td>31.0</td>\n",
              "      <td>237.0</td>\n",
              "      <td>1.67</td>\n",
              "      <td>0</td>\n",
              "      <td>0</td>\n",
              "    </tr>\n",
              "    <tr>\n",
              "      <th>3</th>\n",
              "      <td>95.7</td>\n",
              "      <td>31.0</td>\n",
              "      <td>237.0</td>\n",
              "      <td>1.70</td>\n",
              "      <td>0</td>\n",
              "      <td>0</td>\n",
              "    </tr>\n",
              "    <tr>\n",
              "      <th>4</th>\n",
              "      <td>95.8</td>\n",
              "      <td>31.0</td>\n",
              "      <td>236.0</td>\n",
              "      <td>1.69</td>\n",
              "      <td>0</td>\n",
              "      <td>0</td>\n",
              "    </tr>\n",
              "  </tbody>\n",
              "</table>\n",
              "</div>"
            ],
            "text/plain": [
              "   Humidity  Temperature  ...  cluster_ID  cluster_label\n",
              "0      95.6         31.1  ...           0              0\n",
              "1      95.6         31.1  ...           0              0\n",
              "2      95.6         31.0  ...           0              0\n",
              "3      95.7         31.0  ...           0              0\n",
              "4      95.8         31.0  ...           0              0\n",
              "\n",
              "[5 rows x 6 columns]"
            ]
          },
          "metadata": {
            "tags": []
          },
          "execution_count": 29
        }
      ],
      "metadata": {
        "colab": {
          "base_uri": "https://localhost:8080/",
          "height": 191
        },
        "id": "RvZ9oPhltZGX",
        "outputId": "da4c6d89-37ac-4ad1-b5de-8a5fa57f6550"
      }
    },
    {
      "cell_type": "code",
      "execution_count": null,
      "source": [
        "from sklearn.decomposition import PCA\n",
        "import pylab as pl"
      ],
      "outputs": [],
      "metadata": {
        "id": "HsTpiyn6tZGY"
      }
    },
    {
      "cell_type": "code",
      "execution_count": null,
      "source": [
        "pca = PCA(n_components=2).fit(proccessedOutput_df)"
      ],
      "outputs": [],
      "metadata": {
        "id": "SNjFhd1WtZGY"
      }
    },
    {
      "cell_type": "code",
      "execution_count": null,
      "source": [
        "pca_2d = pca.transform(proccessedOutput_df)"
      ],
      "outputs": [],
      "metadata": {
        "id": "e7HjDWUStZGZ"
      }
    },
    {
      "cell_type": "code",
      "execution_count": null,
      "source": [
        "pl.figure('Reference Plot')"
      ],
      "outputs": [
        {
          "output_type": "execute_result",
          "data": {
            "text/plain": [
              "<Figure size 432x288 with 0 Axes>"
            ]
          },
          "metadata": {
            "tags": []
          },
          "execution_count": 33
        },
        {
          "output_type": "display_data",
          "data": {
            "text/plain": [
              "<Figure size 432x288 with 0 Axes>"
            ]
          },
          "metadata": {
            "tags": []
          }
        }
      ],
      "metadata": {
        "colab": {
          "base_uri": "https://localhost:8080/",
          "height": 50
        },
        "id": "raJGK_qUtZGZ",
        "outputId": "6b7d8e7d-842c-4100-a690-bee41e0979a0"
      }
    },
    {
      "cell_type": "code",
      "execution_count": null,
      "source": [
        "pl.scatter(pca_2d[:, 0], pca_2d[:, 1], c=proccessedOutput_df['cluster_label'])"
      ],
      "outputs": [
        {
          "output_type": "execute_result",
          "data": {
            "text/plain": [
              "<matplotlib.collections.PathCollection at 0x7fae741c2cf8>"
            ]
          },
          "metadata": {
            "tags": []
          },
          "execution_count": 34
        },
        {
          "output_type": "display_data",
          "data": {
            "image/png": "[encoded data removed]",
            "text/plain": [
              "<Figure size 432x288 with 1 Axes>"
            ]
          },
          "metadata": {
            "tags": [],
            "needs_background": "light"
          }
        }
      ],
      "metadata": {
        "colab": {
          "base_uri": "https://localhost:8080/",
          "height": 281
        },
        "id": "jXZVT2TGtZGa",
        "outputId": "dcf229f2-8a8f-461f-8860-1c003e15b8ab"
      }
    },
    {
      "cell_type": "code",
      "execution_count": null,
      "source": [
        "#proccessedOutput_df.to_csv(\"D:/labeled_fire_df_new.csv\", encoding='utf-8', index=False)"
      ],
      "outputs": [],
      "metadata": {
        "id": "Y19Sw2LCtZGa"
      }
    },
    {
      "cell_type": "markdown",
      "source": [
        "# Analysis"
      ],
      "metadata": {
        "id": "gL8i0aWmtZGa"
      }
    },
    {
      "cell_type": "markdown",
      "source": [
        "## Multiple Linear Regression"
      ],
      "metadata": {
        "id": "HahZ5PiztZGb"
      }
    },
    {
      "cell_type": "code",
      "execution_count": null,
      "source": [
        "import sklearn\n",
        "from sklearn import linear_model"
      ],
      "outputs": [],
      "metadata": {
        "id": "-3Cy6vv7tZGb"
      }
    },
    {
      "cell_type": "code",
      "execution_count": null,
      "source": [
        "from sklearn import preprocessing\n",
        "from sklearn.model_selection import train_test_split"
      ],
      "outputs": [],
      "metadata": {
        "id": "GOLfrsMbtZGb"
      }
    },
    {
      "cell_type": "code",
      "execution_count": null,
      "source": [
        "cols = list(proccessedOutput_df.columns)\n",
        "cols.remove('cluster_label')\n",
        "cols.remove('cluster_ID')\n",
        "input_df = proccessedOutput_df[cols]"
      ],
      "outputs": [],
      "metadata": {
        "id": "27_0ylq0tZGb"
      }
    },
    {
      "cell_type": "code",
      "execution_count": null,
      "source": [
        "from sklearn.model_selection import train_test_split\n",
        "from sklearn import model_selection"
      ],
      "outputs": [],
      "metadata": {
        "id": "fsbfOi4HtZGb"
      }
    },
    {
      "cell_type": "code",
      "execution_count": null,
      "source": [
        "train_x, test_x, train_y, test_y = model_selection.train_test_split(input_df, proccessedOutput_df['cluster_label'], test_size=0.20, random_state=1)"
      ],
      "outputs": [],
      "metadata": {
        "id": "KkROQYf3tZGc"
      }
    },
    {
      "cell_type": "code",
      "execution_count": null,
      "source": [
        "reg_model =linear_model.LinearRegression()"
      ],
      "outputs": [],
      "metadata": {
        "id": "9WUBI6pFtZGc"
      }
    },
    {
      "cell_type": "code",
      "execution_count": null,
      "source": [
        "reg_model=reg_model.fit(train_x,train_y)"
      ],
      "outputs": [],
      "metadata": {
        "id": "H2mysV_7tZGc"
      }
    },
    {
      "cell_type": "code",
      "execution_count": null,
      "source": [
        "print(\"Slope:\", reg_model.coef_[0])"
      ],
      "outputs": [
        {
          "output_type": "stream",
          "name": "stdout",
          "text": [
            "Slope: -0.021170462053575555\n"
          ]
        }
      ],
      "metadata": {
        "colab": {
          "base_uri": "https://localhost:8080/"
        },
        "id": "vlZEuTimtZGc",
        "outputId": "c0b1064e-93d5-4d3e-d43f-49bae6393bc8"
      }
    },
    {
      "cell_type": "markdown",
      "source": [
        "* The slope indicates the steepness of a line and the intercept indicates the location where it intersects an axis. \n",
        "* The slope and the intercept define the linear relationship between two variables, and can be used to estimate an average rate of change."
      ],
      "metadata": {
        "id": "-esnobYLtZGd"
      }
    },
    {
      "cell_type": "code",
      "execution_count": null,
      "source": [
        "print(\"Intercept:\",reg_model.intercept_)"
      ],
      "outputs": [
        {
          "output_type": "stream",
          "name": "stdout",
          "text": [
            "Intercept: 2.58055439797582\n"
          ]
        }
      ],
      "metadata": {
        "colab": {
          "base_uri": "https://localhost:8080/"
        },
        "id": "FweeuADBtZGd",
        "outputId": "91a91900-dce4-4fd8-8992-c1cca4d6a600"
      }
    },
    {
      "cell_type": "code",
      "execution_count": null,
      "source": [
        "print('Coefficients: \\n', reg_model.coef_)"
      ],
      "outputs": [
        {
          "output_type": "stream",
          "name": "stdout",
          "text": [
            "Coefficients: \n",
            " [-0.02117046 -0.00970434 -0.00040232 -0.08110342]\n"
          ]
        }
      ],
      "metadata": {
        "colab": {
          "base_uri": "https://localhost:8080/"
        },
        "id": "bYr28CurtZGd",
        "outputId": "d6fb341e-7891-441d-8c82-c3c3246a5a4c"
      }
    },
    {
      "cell_type": "code",
      "execution_count": null,
      "source": [
        "y_pred_train=reg_model.predict(train_x)\n",
        "y_pred_test=reg_model.predict(test_x)"
      ],
      "outputs": [],
      "metadata": {
        "id": "l_rVlTIetZGd"
      }
    },
    {
      "cell_type": "code",
      "execution_count": null,
      "source": [
        "dfccc = pd.DataFrame({'Actual': test_y, 'Predicted': y_pred_test})\n",
        "dfccc"
      ],
      "outputs": [
        {
          "output_type": "execute_result",
          "data": {
            "text/html": [
              "<div>\n",
              "<style scoped>\n",
              "    .dataframe tbody tr th:only-of-type {\n",
              "        vertical-align: middle;\n",
              "    }\n",
              "\n",
              "    .dataframe tbody tr th {\n",
              "        vertical-align: top;\n",
              "    }\n",
              "\n",
              "    .dataframe thead th {\n",
              "        text-align: right;\n",
              "    }\n",
              "</style>\n",
              "<table border=\"1\" class=\"dataframe\">\n",
              "  <thead>\n",
              "    <tr style=\"text-align: right;\">\n",
              "      <th></th>\n",
              "      <th>Actual</th>\n",
              "      <th>Predicted</th>\n",
              "    </tr>\n",
              "  </thead>\n",
              "  <tbody>\n",
              "    <tr>\n",
              "      <th>680</th>\n",
              "      <td>1</td>\n",
              "      <td>0.965626</td>\n",
              "    </tr>\n",
              "    <tr>\n",
              "      <th>1375</th>\n",
              "      <td>1</td>\n",
              "      <td>1.117659</td>\n",
              "    </tr>\n",
              "    <tr>\n",
              "      <th>1246</th>\n",
              "      <td>0</td>\n",
              "      <td>0.128119</td>\n",
              "    </tr>\n",
              "    <tr>\n",
              "      <th>1104</th>\n",
              "      <td>0</td>\n",
              "      <td>-0.038530</td>\n",
              "    </tr>\n",
              "    <tr>\n",
              "      <th>194</th>\n",
              "      <td>1</td>\n",
              "      <td>0.936866</td>\n",
              "    </tr>\n",
              "    <tr>\n",
              "      <th>...</th>\n",
              "      <td>...</td>\n",
              "      <td>...</td>\n",
              "    </tr>\n",
              "    <tr>\n",
              "      <th>891</th>\n",
              "      <td>0</td>\n",
              "      <td>0.038901</td>\n",
              "    </tr>\n",
              "    <tr>\n",
              "      <th>766</th>\n",
              "      <td>1</td>\n",
              "      <td>0.621327</td>\n",
              "    </tr>\n",
              "    <tr>\n",
              "      <th>239</th>\n",
              "      <td>1</td>\n",
              "      <td>1.047298</td>\n",
              "    </tr>\n",
              "    <tr>\n",
              "      <th>1105</th>\n",
              "      <td>0</td>\n",
              "      <td>-0.056532</td>\n",
              "    </tr>\n",
              "    <tr>\n",
              "      <th>759</th>\n",
              "      <td>1</td>\n",
              "      <td>0.571766</td>\n",
              "    </tr>\n",
              "  </tbody>\n",
              "</table>\n",
              "<p>281 rows × 2 columns</p>\n",
              "</div>"
            ],
            "text/plain": [
              "      Actual  Predicted\n",
              "680        1   0.965626\n",
              "1375       1   1.117659\n",
              "1246       0   0.128119\n",
              "1104       0  -0.038530\n",
              "194        1   0.936866\n",
              "...      ...        ...\n",
              "891        0   0.038901\n",
              "766        1   0.621327\n",
              "239        1   1.047298\n",
              "1105       0  -0.056532\n",
              "759        1   0.571766\n",
              "\n",
              "[281 rows x 2 columns]"
            ]
          },
          "metadata": {
            "tags": []
          },
          "execution_count": 48
        }
      ],
      "metadata": {
        "colab": {
          "base_uri": "https://localhost:8080/",
          "height": 391
        },
        "id": "O4HtDtZmtZGe",
        "outputId": "25d2ba2d-d85c-4196-bdd6-174fc813e864"
      }
    },
    {
      "cell_type": "markdown",
      "source": [
        "### Computing regression accuracy"
      ],
      "metadata": {
        "id": "CTu1YLYotZGe"
      }
    },
    {
      "cell_type": "code",
      "execution_count": null,
      "source": [
        "import sklearn.metrics as sm"
      ],
      "outputs": [],
      "metadata": {
        "id": "_jvpIKPAtZGe"
      }
    },
    {
      "cell_type": "code",
      "execution_count": null,
      "source": [
        "print(\"Mean absolute error =\", round(sm.mean_absolute_error(test_y, y_pred_test), 2)) \n",
        "print(\"Mean squared error =\", round(sm.mean_squared_error(test_y, y_pred_test), 2)) \n",
        "print(\"Median absolute error =\", round(sm.median_absolute_error(test_y, y_pred_test), 2)) \n",
        "print(\"Explain variance score =\", round(sm.explained_variance_score(test_y, y_pred_test), 2)) \n",
        "print(\"R2 score =\", round(sm.r2_score(test_y, y_pred_test), 2))"
      ],
      "outputs": [
        {
          "output_type": "stream",
          "name": "stdout",
          "text": [
            "Mean absolute error = 0.15\n",
            "Mean squared error = 0.05\n",
            "Median absolute error = 0.08\n",
            "Explain variance score = 0.81\n",
            "R2 score = 0.81\n"
          ]
        }
      ],
      "metadata": {
        "colab": {
          "base_uri": "https://localhost:8080/"
        },
        "id": "VMfDBOzBtZGf",
        "outputId": "785baaca-64d5-48b9-af25-7d61f85c16d4"
      }
    },
    {
      "cell_type": "markdown",
      "source": [
        "An R2 score near 1 means that the model is able to predict the data very well. Keeping track of every single metric can get tedious, so we pick one or two metrics to evaluate our model. A good practice is to make sure that the mean squared error is low and the explained variance score is high."
      ],
      "metadata": {
        "id": "_8y8DLHatZGf"
      }
    },
    {
      "cell_type": "markdown",
      "source": [
        "#Prediction"
      ],
      "metadata": {
        "id": "eRG0KzvEtZGf"
      }
    },
    {
      "cell_type": "code",
      "execution_count": null,
      "source": [
        "uploaded=files.upload()"
      ],
      "outputs": [
        {
          "output_type": "display_data",
          "data": {
            "text/html": [
              "\n",
              "     <input type=\"file\" id=\"files-6c247e7f-ffbe-4fa9-b6c3-a272f38b5a5f\" name=\"files[]\" multiple disabled\n",
              "        style=\"border:none\" />\n",
              "     <output id=\"result-6c247e7f-ffbe-4fa9-b6c3-a272f38b5a5f\">\n",
              "      Upload widget is only available when the cell has been executed in the\n",
              "      current browser session. Please rerun this cell to enable.\n",
              "      </output>\n",
              "      <script src=\"/nbextensions/google.colab/files.js\"></script> "
            ],
            "text/plain": [
              "<IPython.core.display.HTML object>"
            ]
          },
          "metadata": {
            "tags": []
          }
        },
        {
          "output_type": "stream",
          "name": "stdout",
          "text": [
            "Saving datasetsample.csv to datasetsample.csv\n"
          ]
        }
      ],
      "metadata": {
        "colab": {
          "resources": {
            "http://localhost:8080/nbextensions/google.colab/files.js": {
              "data": "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",
              "ok": true,
              "headers": [
                [
                  "content-type",
                  "application/javascript"
                ]
              ],
              "status": 200,
              "status_text": ""
            }
          },
          "base_uri": "https://localhost:8080/",
          "height": 70
        },
        "id": "HA5BLKr4vokl",
        "outputId": "49f16e31-5741-4e0c-c280-2746b0d2e8c0"
      }
    },
    {
      "cell_type": "code",
      "execution_count": null,
      "source": [
        "#Read the csv file into a Pandas dataframe\n",
        "#sample_df = pd.read_csv('D:/datasetsample.csv',encoding = \"ISO-8859-1\")\n",
        "sample_df = pd.read_csv(io.StringIO(uploaded['datasetsample.csv'].decode('ISO-8859-1')))\n",
        "sample_df.head()"
      ],
      "outputs": [
        {
          "output_type": "execute_result",
          "data": {
            "text/html": [
              "<div>\n",
              "<style scoped>\n",
              "    .dataframe tbody tr th:only-of-type {\n",
              "        vertical-align: middle;\n",
              "    }\n",
              "\n",
              "    .dataframe tbody tr th {\n",
              "        vertical-align: top;\n",
              "    }\n",
              "\n",
              "    .dataframe thead th {\n",
              "        text-align: right;\n",
              "    }\n",
              "</style>\n",
              "<table border=\"1\" class=\"dataframe\">\n",
              "  <thead>\n",
              "    <tr style=\"text-align: right;\">\n",
              "      <th></th>\n",
              "      <th>Humidity</th>\n",
              "      <th>Temperature</th>\n",
              "      <th>Light Intensity Level</th>\n",
              "      <th>CO Level</th>\n",
              "      <th>Area</th>\n",
              "    </tr>\n",
              "  </thead>\n",
              "  <tbody>\n",
              "    <tr>\n",
              "      <th>0</th>\n",
              "      <td>98.7</td>\n",
              "      <td>33.3</td>\n",
              "      <td>270</td>\n",
              "      <td>0.94</td>\n",
              "      <td>1</td>\n",
              "    </tr>\n",
              "    <tr>\n",
              "      <th>1</th>\n",
              "      <td>95.6</td>\n",
              "      <td>31.1</td>\n",
              "      <td>236</td>\n",
              "      <td>1.67</td>\n",
              "      <td>2</td>\n",
              "    </tr>\n",
              "    <tr>\n",
              "      <th>2</th>\n",
              "      <td>95.6</td>\n",
              "      <td>31.0</td>\n",
              "      <td>237</td>\n",
              "      <td>1.67</td>\n",
              "      <td>3</td>\n",
              "    </tr>\n",
              "    <tr>\n",
              "      <th>3</th>\n",
              "      <td>25.3</td>\n",
              "      <td>78.3</td>\n",
              "      <td>267</td>\n",
              "      <td>1.10</td>\n",
              "      <td>4</td>\n",
              "    </tr>\n",
              "    <tr>\n",
              "      <th>4</th>\n",
              "      <td>95.8</td>\n",
              "      <td>31.0</td>\n",
              "      <td>236</td>\n",
              "      <td>1.69</td>\n",
              "      <td>1</td>\n",
              "    </tr>\n",
              "  </tbody>\n",
              "</table>\n",
              "</div>"
            ],
            "text/plain": [
              "   Humidity  Temperature  Light Intensity Level  CO Level  Area\n",
              "0      98.7         33.3                    270      0.94     1\n",
              "1      95.6         31.1                    236      1.67     2\n",
              "2      95.6         31.0                    237      1.67     3\n",
              "3      25.3         78.3                    267      1.10     4\n",
              "4      95.8         31.0                    236      1.69     1"
            ]
          },
          "metadata": {
            "tags": []
          },
          "execution_count": 53
        }
      ],
      "metadata": {
        "scrolled": true,
        "colab": {
          "base_uri": "https://localhost:8080/",
          "height": 191
        },
        "id": "4HfAuQ6_tZGg",
        "outputId": "8fd35583-8b9b-419c-ffef-73167629d90b"
      }
    },
    {
      "cell_type": "code",
      "execution_count": null,
      "source": [
        "from statistics import *"
      ],
      "outputs": [],
      "metadata": {
        "id": "jCUhYejZwQOr"
      }
    },
    {
      "cell_type": "code",
      "execution_count": null,
      "source": [
        "def firePredictionArea(data_frame):\n",
        "    df_columns = ['Humidity', 'Temperature', 'Light Intensity Level', 'CO Level']\n",
        "    areas = np.unique(np.array(sample_df['Area']))\n",
        "    \n",
        "    for area in areas:\n",
        "        input_sample_df = pd.DataFrame(columns=df_columns)\n",
        "        idx = 0\n",
        "        for i, row in data_frame.iterrows():\n",
        "            if data_frame['Area'][i] == area:\n",
        "                input_sample_df.loc[idx] = row[['Humidity', 'Temperature', 'Light Intensity Level', 'CO Level']].values.tolist()\n",
        "                idx += 1\n",
        "                \n",
        "        area_pred=reg_model.predict(input_sample_df)\n",
        "        if round(mean(area_pred), 1) >= 0.5:\n",
        "            print('Fire on Area - ',area)"
      ],
      "outputs": [],
      "metadata": {
        "id": "QuijIO0wtZGg"
      }
    },
    {
      "cell_type": "code",
      "execution_count": null,
      "source": [
        "firePredictionArea(sample_df)"
      ],
      "outputs": [
        {
          "output_type": "stream",
          "name": "stdout",
          "text": [
            "Fire on Area -  4\n"
          ]
        }
      ],
      "metadata": {
        "colab": {
          "base_uri": "https://localhost:8080/"
        },
        "id": "fn5rt8_7tZGg",
        "outputId": "6e687e59-b0de-4989-934a-666f8f6f78f3"
      }
    },
    {
      "cell_type": "markdown",
      "source": [
        "This ML Analysis is to Predict Fire as Area wise. "
      ],
      "metadata": {
        "id": "jrDTm94ILXDh"
      }
    },
    {
      "cell_type": "code",
      "execution_count": null,
      "source": [],
      "outputs": [],
      "metadata": {
        "id": "f0pPchGWtZGi"
      }
    },
    {
      "cell_type": "code",
      "execution_count": null,
      "source": [],
      "outputs": [],
      "metadata": {
        "id": "Tmh3y5S6tZGi"
      }
    },
    {
      "cell_type": "code",
      "execution_count": null,
      "source": [],
      "outputs": [],
      "metadata": {
        "id": "W0xl58wgtZGi"
      }
    },
    {
      "cell_type": "code",
      "execution_count": null,
      "source": [],
      "outputs": [],
      "metadata": {
        "id": "oxZnbGT7tZGi"
      }
    },
    {
      "cell_type": "code",
      "execution_count": null,
      "source": [],
      "outputs": [],
      "metadata": {
        "id": "Imq6lh8VtZGi"
      }
    }
  ]
}